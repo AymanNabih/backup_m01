{
 "cells": [
  {
   "cell_type": "code",
   "execution_count": 1,
   "metadata": {},
   "outputs": [],
   "source": [
    "import numpy as np\n",
    "import matplotlib.pyplot as plt\n",
    "from scipy.spatial.distance import cityblock,euclidean\n",
    "from utils import refactor_and_plot"
   ]
  },
  {
   "cell_type": "code",
   "execution_count": 2,
   "metadata": {},
   "outputs": [],
   "source": [
    "data = np.array(np.random.rand(100,2)*10 )"
   ]
  },
  {
   "cell_type": "code",
   "execution_count": 3,
   "metadata": {},
   "outputs": [],
   "source": [
    "data = np.array([[0,0],[0.5,0.5],[0.5,1],[1,0.5], [0,1], [4.5,4.5],[5,4.5],[4.5,5], [5,5]])"
   ]
  },
  {
   "cell_type": "code",
   "execution_count": 4,
   "metadata": {},
   "outputs": [],
   "source": [
    "data = np.array([\n",
    "    [2,6],\n",
    "    [3,4],\n",
    "    [3,8],\n",
    "    [4,7],\n",
    "    [6,2],\n",
    "    [6,4],\n",
    "    [7,3],\n",
    "    [7,4],\n",
    "    [8,5],\n",
    "    [7,6]\n",
    "])"
   ]
  },
  {
   "cell_type": "code",
   "execution_count": 5,
   "metadata": {},
   "outputs": [
    {
     "data": {
      "image/png": "[encoded data removed]",
      "text/plain": [
       "<Figure size 432x288 with 1 Axes>"
      ]
     },
     "metadata": {},
     "output_type": "display_data"
    }
   ],
   "source": [
    "\n",
    "\n",
    "plot_x = [d[0] for d in data]\n",
    "plot_y = [d[1] for d in data]\n",
    "plt.scatter(plot_x,plot_y)\n",
    "plt.show()"
   ]
  },
  {
   "cell_type": "code",
   "execution_count": 8,
   "metadata": {},
   "outputs": [],
   "source": [
    "from sklearn.metrics import pairwise_distances\n",
    "distance_matrix = pairwise_distances(data,metric=\"manhattan\")"
   ]
  },
  {
   "cell_type": "code",
   "execution_count": 93,
   "metadata": {},
   "outputs": [],
   "source": [
    "def compute_cost(medoid_indices,D,k,min_cost):\n",
    "    clusters = []\n",
    "    cost = 0\n",
    "    for i in range(len(D)):\n",
    "        distances = np.array([D[i,medoid_indices[j]] for j in range(k) ])\n",
    "            \n",
    "        closest_medoid_idx = distances.argmin()\n",
    "        \n",
    "        clusters.append(closest_medoid_idx)\n",
    "        cost += distances[closest_medoid_idx]\n",
    "        \n",
    "        if cost > min_cost:\n",
    "            return (False,cost,clusters,cost)\n",
    "    return (True,cost,clusters,cost)"
   ]
  },
  {
   "cell_type": "code",
   "execution_count": 94,
   "metadata": {},
   "outputs": [],
   "source": [
    "import copy\n",
    "def pam(D, k):\n",
    "    # initialization step\n",
    "    former_cost = float(\"inf\")\n",
    "    min_cost = float(\"inf\")\n",
    "    clusters = []\n",
    "    \n",
    "    if k > len(data):\n",
    "        print(\" number of medoids is greater than data length\")\n",
    "    else:\n",
    "        medoid_indices = np.random.choice(len(D),k, replace = False)\n",
    "    _,new_cost,clusters,min_cost = compute_cost(medoid_indices,D,k,min_cost)\n",
    "    print(\"cost: \" + str(new_cost))\n",
    "    \n",
    "    while new_cost < former_cost:\n",
    "        \n",
    "        display_pam_results_2D(data,clusters, data[medoid_indices],True)\n",
    "        \n",
    "        former_cost = new_cost\n",
    "        for j in range(k):\n",
    "            for i in range(len(D)):\n",
    "                \n",
    "                if i not in medoid_indices:\n",
    "                    \n",
    "                    med_idx = copy.copy(medoid_indices)\n",
    "                    med_idx[j] = i\n",
    "                    \n",
    "                    res = compute_cost(med_idx,D,k,min_cost)\n",
    "                    \n",
    "                    if res[0] == True:\n",
    "                        \n",
    "                        mod_cost,clusters,min_cost = res[1], res[2], res[3]\n",
    "                        \n",
    "                        if mod_cost < new_cost:\n",
    "                            \n",
    "                            medoid_indices = copy.copy(med_idx)\n",
    "                            new_cost = mod_cost\n",
    "        \n",
    "        print(\"cost: \" + str(new_cost))\n",
    "        \n",
    "    return medoid_indices.tolist(), clusters"
   ]
  },
  {
   "cell_type": "code",
   "execution_count": 95,
   "metadata": {},
   "outputs": [
    {
     "name": "stdout",
     "output_type": "stream",
     "text": [
      "cost: 34.0\n",
      "cost: 18.0\n",
      "cost: 18.0\n"
     ]
    },
    {
     "data": {
      "image/png": "[encoded data removed]",
      "text/plain": [
       "<Figure size 432x288 with 1 Axes>"
      ]
     },
     "metadata": {},
     "output_type": "display_data"
    },
    {
     "data": {
      "image/png": "[encoded data removed]",
      "text/plain": [
       "<Figure size 432x288 with 1 Axes>"
      ]
     },
     "metadata": {},
     "output_type": "display_data"
    }
   ],
   "source": [
    "medoid_indices, clusters = pam(distance_matrix, k = nb_clusters)"
   ]
  },
  {
   "cell_type": "code",
   "execution_count": 11,
   "metadata": {},
   "outputs": [],
   "source": [
    "nb_clusters = 2"
   ]
  },
  {
   "cell_type": "code",
   "execution_count": 22,
   "metadata": {},
   "outputs": [],
   "source": [
    "def associate_to_cluster(medoid_indices,data,k,min_cost):\n",
    "    clusters = [[] for _ in range(len(data))]\n",
    "    costs = [0 for _ in range(k)]\n",
    "    cost = 0\n",
    "    for i,d in enumerate(data):\n",
    "        distances = np.array([cityblock(d,data[m]) for m in medoid_indices ])\n",
    "        closest_medoid_idx = distances.argmin()\n",
    "        clusters[i] = closest_medoid_idx\n",
    "        #costs[closest_medoid_idx] += distances[closest_medoid_idx]\n",
    "        cost += distances[closest_medoid_idx]\n",
    "        if cost > min_cost:\n",
    "            return (False,cost,clusters,cost)\n",
    "    #cost = np.sum(costs)\n",
    "    #print(\"initialization cost: \" + str(cost))\n",
    "    \n",
    "    return (True,cost,clusters,cost)\n",
    "    "
   ]
  },
  {
   "cell_type": "code",
   "execution_count": 23,
   "metadata": {},
   "outputs": [],
   "source": [
    "import copy\n",
    "def partitioning_around_medoids(data, k):\n",
    "    # initialization step\n",
    "    former_cost = float(\"inf\")\n",
    "    min_cost = float(\"inf\")\n",
    "    clusters = []\n",
    "    \n",
    "    if k > len(data):\n",
    "        print(\" number of medoids is greater than data length\")\n",
    "    else:\n",
    "        medoid_indices = np.random.choice(len(data),k, replace = False)\n",
    "    \n",
    "    _,new_cost,clusters,min_cost = associate_to_cluster(medoid_indices,data,k,min_cost)\n",
    "    print(\"cost: \" + str(new_cost))\n",
    "    #print(\"min_cost: \" + str(min_cost))\n",
    "    #clustering step\n",
    "    while new_cost < former_cost:\n",
    "        display_pam_results_2D(data,clusters, data[medoid_indices],True)\n",
    "        \n",
    "        former_cost = new_cost\n",
    "        for j,m in enumerate(medoid_indices):\n",
    "            for i,o in enumerate(data):\n",
    "                if i not in medoid_indices:\n",
    "                    med_idx = copy.copy(medoid_indices)\n",
    "                    med_idx[j] = i\n",
    "                    res = associate_to_cluster(med_idx,data,k,min_cost)\n",
    "                    #print(res)\n",
    "                    if res[0] == True:\n",
    "                        mod_cost,clusters,min_cost = res[1], res[2], res[3]\n",
    "                        #print(\"min_cost1: \" + str(min_cost))\n",
    "                        if mod_cost <= new_cost:\n",
    "                            medoid_indices = copy.copy(med_idx)\n",
    "                            new_cost = mod_cost\n",
    "        \n",
    "        print(\"cost: \" + str(new_cost))\n",
    "        \n",
    "    return medoid_indices.tolist(), clusters"
   ]
  },
  {
   "cell_type": "code",
   "execution_count": 24,
   "metadata": {},
   "outputs": [
    {
     "name": "stdout",
     "output_type": "stream",
     "text": [
      "cost: 19\n",
      "cost: 18\n",
      "cost: 18\n"
     ]
    },
    {
     "data": {
      "image/png": "[encoded data removed]",
      "text/plain": [
       "<Figure size 432x288 with 1 Axes>"
      ]
     },
     "metadata": {},
     "output_type": "display_data"
    },
    {
     "data": {
      "image/png": "[encoded data removed]",
      "text/plain": [
       "<Figure size 432x288 with 1 Axes>"
      ]
     },
     "metadata": {},
     "output_type": "display_data"
    }
   ],
   "source": [
    "medoid_indices, clusters = partitioning_around_medoids(data, k = nb_clusters)"
   ]
  },
  {
   "cell_type": "code",
   "execution_count": 8,
   "metadata": {},
   "outputs": [],
   "source": [
    "def associate_to_cluster1(medoid_indices,data,k):\n",
    "    clusters = [[] for _ in range(len(data))]\n",
    "    costs = [0 for _ in range(k)]\n",
    "    for i,d in enumerate(data):\n",
    "        distances = np.array([cityblock(d,data[m]) for m in medoid_indices ])\n",
    "        closest_medoid_idx = distances.argmin()\n",
    "        clusters[i] = closest_medoid_idx\n",
    "        costs[closest_medoid_idx] += distances[closest_medoid_idx]\n",
    "    cost = np.sum(costs)\n",
    "    #print(\"initialization cost: \" + str(cost))\n",
    "    \n",
    "    return cost,clusters"
   ]
  },
  {
   "cell_type": "code",
   "execution_count": 22,
   "metadata": {},
   "outputs": [],
   "source": [
    "def nearest_point(data,x):\n",
    "    min_ = float(\"inf\")\n",
    "    idx = -1\n",
    "    for i,d in enumerate(data):\n",
    "        if euclidean(d,x) < min_:\n",
    "            min_ = euclidean(d,x)\n",
    "            idx = i\n",
    "    return idx"
   ]
  },
  {
   "cell_type": "code",
   "execution_count": 47,
   "metadata": {},
   "outputs": [
    {
     "name": "stdout",
     "output_type": "stream",
     "text": [
      "cost: 24\n",
      "cost: 18\n"
     ]
    }
   ],
   "source": [
    "def kmedoid(data, k,nb_feature = 50):\n",
    "    \n",
    "    # initialization step\n",
    "    former_cost = float(\"inf\")\n",
    "    clusters = []\n",
    "    \n",
    "    if k > len(data):\n",
    "        print(\" number of medoids is greater than data length\")\n",
    "    else:\n",
    "        medoid_indices = np.random.choice(len(data),k, replace = False)\n",
    "    \n",
    "    new_cost,clusters = associate_to_cluster1(medoid_indices,data,k)\n",
    "    \n",
    "    #clustering step\n",
    "    #while new_cost < former_cost:\n",
    "        #former_cost = new_cost\n",
    "    \n",
    "    while new_cost < former_cost:\n",
    "        print(\"cost: \" + str(new_cost))\n",
    "        former_cost = new_cost\n",
    "        for i in range(k):\n",
    "            mean = np.zeros(nb_feature)\n",
    "            nb = 0\n",
    "\n",
    "\n",
    "            for j in range(len(data)):\n",
    "                if clusters[j] == i:\n",
    "                    #print(\"in\")\n",
    "                    #print(mean)\n",
    "                    #print(data[j])\n",
    "                    mean += data[j]\n",
    "                    nb += 1\n",
    "            mean /= float(nb)\n",
    "            #print(mean)\n",
    "            medoid_indices[i] = nearest_point(data,mean)\n",
    "        new_cost,clusters = associate_to_cluster1(medoid_indices,data,k)\n",
    "\n",
    "    return medoid_indices.tolist(), clusters\n",
    "    \n",
    "medoid_indices, clusters = kmedoid(data, nb_clusters,nb_feature = 2)"
   ]
  },
  {
   "cell_type": "code",
   "execution_count": 48,
   "metadata": {},
   "outputs": [],
   "source": [
    "medoids = data[medoid_indices]"
   ]
  },
  {
   "cell_type": "code",
   "execution_count": 49,
   "metadata": {},
   "outputs": [
    {
     "name": "stdout",
     "output_type": "stream",
     "text": [
      "[[7 4]\n",
      " [2 6]]\n"
     ]
    }
   ],
   "source": [
    "print(medoids)"
   ]
  },
  {
   "cell_type": "code",
   "execution_count": 13,
   "metadata": {},
   "outputs": [],
   "source": [
    "import matplotlib.cm as cm\n",
    "\n",
    "def point_is_medoid(medoids, point):\n",
    "    for e in medoids:\n",
    "        if euclidean(e,point) == 0:\n",
    "            return True\n",
    "    return False\n",
    "\n",
    "\n",
    "def display_pam_results_2D(data,clusters, medoids, display_medoids = True):\n",
    "    plt.figure()\n",
    "    colors = cm.rainbow(np.linspace(0, 1, nb_clusters+1))\n",
    "\n",
    "    for i,row in enumerate(data):\n",
    "        c = colors[clusters[i]]\n",
    "        if display_medoids and point_is_medoid(medoids, row):\n",
    "            c = colors[-1]\n",
    "        plt.scatter(row[0], row[1], color = c)   "
   ]
  },
  {
   "cell_type": "code",
   "execution_count": 51,
   "metadata": {},
   "outputs": [
    {
     "data": {
      "image/png": "[encoded data removed]",
      "text/plain": [
       "<Figure size 432x288 with 1 Axes>"
      ]
     },
     "metadata": {},
     "output_type": "display_data"
    }
   ],
   "source": [
    "display_pam_results_2D(data,clusters, medoids,True)"
   ]
  },
  {
   "cell_type": "code",
   "execution_count": null,
   "metadata": {},
   "outputs": [],
   "source": []
  }
 ],
 "metadata": {
  "kernelspec": {
   "display_name": "Python 2",
   "language": "python",
   "name": "python2"
  },
  "language_info": {
   "codemirror_mode": {
    "name": "ipython",
    "version": 2
   },
   "file_extension": ".py",
   "mimetype": "text/x-python",
   "name": "python",
   "nbconvert_exporter": "python",
   "pygments_lexer": "ipython2",
   "version": "2.7.15"
  }
 },
 "nbformat": 4,
 "nbformat_minor": 2
}
