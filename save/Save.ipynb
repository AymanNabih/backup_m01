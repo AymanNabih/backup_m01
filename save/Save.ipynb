{
 "cells": [
  {
   "cell_type": "code",
   "execution_count": null,
   "metadata": {
    "collapsed": true
   },
   "outputs": [],
   "source": [
    "def my_affinity(d1,d2,i,j,dist):\n",
    "    distance = dist(d1[i],d2[j])\n",
    "     \n",
    "    if i == 0 and j == 0:\n",
    "        return distance\n",
    "    elif i == 0:\n",
    "        couples = [[i,j-1]]\n",
    "    elif j == 0:\n",
    "        couples = [[i-1,j]]\n",
    "    else:\n",
    "        couples = [[i,j-1],[i-1,j],[i-1,j-1]]\n",
    "        \n",
    "    distance += np.amin([ my_affinity(d1,d2,e[0],e[1],dist) for e in couples])\n",
    "    return distance"
   ]
  },
  {
   "cell_type": "markdown",
   "metadata": {},
   "source": [
    "#### Compute the dtw distance (O(n^2))"
   ]
  },
  {
   "cell_type": "markdown",
   "metadata": {},
   "source": [
    "#### Comparison of the results of fastdtw ant dtw"
   ]
  },
  {
   "cell_type": "code",
   "execution_count": null,
   "metadata": {
    "collapsed": true
   },
   "outputs": [],
   "source": [
    "print(my_affinity_wrapper(discretized_pixel_trajectories[50][0] ,discretized_pixel_trajectories[100][0]))"
   ]
  },
  {
   "cell_type": "code",
   "execution_count": null,
   "metadata": {
    "collapsed": true
   },
   "outputs": [],
   "source": [
    "distance, path = fastdtw(discretized_pixel_trajectories[50][0], discretized_pixel_trajectories[100][0], dist=euclidean)\n",
    "print(distance)"
   ]
  },
  {
   "cell_type": "markdown",
   "metadata": {},
   "source": [
    "### Compute the distance matrix"
   ]
  },
  {
   "cell_type": "code",
   "execution_count": null,
   "metadata": {
    "collapsed": true
   },
   "outputs": [],
   "source": [
    "def distance_matrix(trajectories):\n",
    "    l =len(trajectories)\n",
    "    D = np.zeros((l,l))\n",
    "    for i in range(l):\n",
    "        for j in range(i,l):\n",
    "            #D[i,j] = my_affinity_wrapper(trajectories[i],trajectories[j])\n",
    "            D[i,j],p = fastdtw(trajectories[i],trajectories[j], dist=euclidean)\n",
    "    return D    "
   ]
  },
  {
   "cell_type": "code",
   "execution_count": null,
   "metadata": {
    "collapsed": true
   },
   "outputs": [],
   "source": [
    "times=[]\n",
    "start = time.time()\n",
    "D = distance_matrix(discretized_pixel_trajectories[:][0])\n",
    "end = time.time()-start\n",
    "times.append(end)\n",
    "print(end)\n"
   ]
  },
  {
   "cell_type": "code",
   "execution_count": null,
   "metadata": {
    "collapsed": true
   },
   "outputs": [],
   "source": [
    "model = DBSCAN(eps=0.5, min_samples=3,metric='precomputed').fit(D)\n",
    "model = AffinityPropagation(damping=0.9, max_iter=200, convergence_iter=15, copy=True, preference=None, affinity='precomputed').fit(D)\n",
    "model = SpectralClustering(n_clusters=15,affinity='precomputed' ).fit(D)\n",
    "clusters = model.fit_predict(D)\n",
    "nb_clusters = np.max(clusters)\n",
    "print(nb_clusters)\n",
    "print((clusters.tolist()).count(-1))\n",
    "print(clusters[0:200])"
   ]
  },
  {
   "cell_type": "code",
   "execution_count": null,
   "metadata": {
    "collapsed": true
   },
   "outputs": [],
   "source": [
    "color = colors(nb_clusters+1)\n",
    "cap = cv2.VideoCapture('laurier.avi')\n",
    "while(cap.isOpened()):\n",
    "    ret, frame = cap.read()\n",
    "\n",
    "    for i,t in enumerate(pixel_trajectories):\n",
    "        pts = np.array(t, np.int32)\n",
    "        pts = pts.reshape((-1,1,2))\n",
    "    #print(pts)\n",
    "        #print(clusters[i])\n",
    "    #frame = cv2.circle(frame,(151,46), 50, (0,0,255), -1)\n",
    "        if clusters[i] == 5:\n",
    "            c = color[clusters[i]]\n",
    "            frame = cv2.polylines(frame,[pts],False,c)\n",
    "    cv2.imshow('frame',frame)\n",
    "    #cv2.waitKey(10000)\n",
    "    cv2.imshow('frame',frame)\n",
    "    if cv2.waitKey(1) & 0xFF == ord('q'):\n",
    "        break\n",
    "cap.release()\n",
    "cv2.destroyAllWindows()"
   ]
  }
 ],
 "metadata": {
  "kernelspec": {
   "display_name": "Python 2",
   "language": "python",
   "name": "python2"
  },
  "language_info": {
   "codemirror_mode": {
    "name": "ipython",
    "version": 2
   },
   "file_extension": ".py",
   "mimetype": "text/x-python",
   "name": "python",
   "nbconvert_exporter": "python",
   "pygments_lexer": "ipython2",
   "version": "2.7.15"
  }
 },
 "nbformat": 4,
 "nbformat_minor": 2
}
